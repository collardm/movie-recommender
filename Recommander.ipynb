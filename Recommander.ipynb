{
 "cells": [
  {
   "cell_type": "code",
   "execution_count": 5,
   "metadata": {},
   "outputs": [],
   "source": [
    "import pandas as pd\n",
    "from trakt.movies import Movie\n",
    "import trakt"
   ]
  },
  {
   "cell_type": "code",
   "execution_count": 27,
   "metadata": {},
   "outputs": [],
   "source": [
    "from backports import configparser\n",
    "\n",
    "config = configparser.ConfigParser()\n",
    "config.read('config.ini')\n",
    "\n",
    "trakt.core.CLIENT_ID = config.get('TRAKT','CLIENT_ID')\n",
    "trakt.core.CLIENT_SECRET = config.get('TRAKT','CLIENT_SECRET')\n",
    "trakt.core.OAUTH_TOKEN = config.get('TRAKT','OAUTH_TOKEN')"
   ]
  },
  {
   "cell_type": "code",
   "execution_count": 11,
   "metadata": {},
   "outputs": [],
   "source": [
    "df = pd.read_csv('export_movies_history.csv')"
   ]
  },
  {
   "cell_type": "code",
   "execution_count": 12,
   "metadata": {},
   "outputs": [
    {
     "data": {
      "text/html": [
       "<div>\n",
       "<style scoped>\n",
       "    .dataframe tbody tr th:only-of-type {\n",
       "        vertical-align: middle;\n",
       "    }\n",
       "\n",
       "    .dataframe tbody tr th {\n",
       "        vertical-align: top;\n",
       "    }\n",
       "\n",
       "    .dataframe thead th {\n",
       "        text-align: right;\n",
       "    }\n",
       "</style>\n",
       "<table border=\"1\" class=\"dataframe\">\n",
       "  <thead>\n",
       "    <tr style=\"text-align: right;\">\n",
       "      <th></th>\n",
       "      <th>imdb</th>\n",
       "      <th>trakt_id</th>\n",
       "      <th>watched_at</th>\n",
       "      <th>title</th>\n",
       "      <th>year</th>\n",
       "      <th>slug</th>\n",
       "    </tr>\n",
       "  </thead>\n",
       "  <tbody>\n",
       "    <tr>\n",
       "      <th>0</th>\n",
       "      <td>tt0335266</td>\n",
       "      <td>118</td>\n",
       "      <td>2020-03-10T19:09:00.000Z</td>\n",
       "      <td>b'Lost in Translation'</td>\n",
       "      <td>2003.0</td>\n",
       "      <td>lost-in-translation-2003</td>\n",
       "    </tr>\n",
       "    <tr>\n",
       "      <th>1</th>\n",
       "      <td>tt3315342</td>\n",
       "      <td>161972</td>\n",
       "      <td>2020-03-09T20:25:00.000Z</td>\n",
       "      <td>b'Logan'</td>\n",
       "      <td>2017.0</td>\n",
       "      <td>logan-2017</td>\n",
       "    </tr>\n",
       "    <tr>\n",
       "      <th>2</th>\n",
       "      <td>tt0305357</td>\n",
       "      <td>4757</td>\n",
       "      <td>2020-03-08T20:08:21.000Z</td>\n",
       "      <td>b\"Charlie's Angels: Full Throttle\"</td>\n",
       "      <td>2003.0</td>\n",
       "      <td>charlie-s-angels-full-throttle-2003</td>\n",
       "    </tr>\n",
       "    <tr>\n",
       "      <th>3</th>\n",
       "      <td>tt0160127</td>\n",
       "      <td>2541</td>\n",
       "      <td>2020-03-08T20:08:12.000Z</td>\n",
       "      <td>b\"Charlie's Angels\"</td>\n",
       "      <td>2000.0</td>\n",
       "      <td>charlie-s-angels-2000</td>\n",
       "    </tr>\n",
       "    <tr>\n",
       "      <th>4</th>\n",
       "      <td>tt3907584</td>\n",
       "      <td>221327</td>\n",
       "      <td>2020-03-08T19:59:00.000Z</td>\n",
       "      <td>b'All the Bright Places'</td>\n",
       "      <td>2020.0</td>\n",
       "      <td>all-the-bright-places-2020</td>\n",
       "    </tr>\n",
       "  </tbody>\n",
       "</table>\n",
       "</div>"
      ],
      "text/plain": [
       "        imdb  trakt_id                watched_at  \\\n",
       "0  tt0335266       118  2020-03-10T19:09:00.000Z   \n",
       "1  tt3315342    161972  2020-03-09T20:25:00.000Z   \n",
       "2  tt0305357      4757  2020-03-08T20:08:21.000Z   \n",
       "3  tt0160127      2541  2020-03-08T20:08:12.000Z   \n",
       "4  tt3907584    221327  2020-03-08T19:59:00.000Z   \n",
       "\n",
       "                                title    year  \\\n",
       "0              b'Lost in Translation'  2003.0   \n",
       "1                            b'Logan'  2017.0   \n",
       "2  b\"Charlie's Angels: Full Throttle\"  2003.0   \n",
       "3                 b\"Charlie's Angels\"  2000.0   \n",
       "4            b'All the Bright Places'  2020.0   \n",
       "\n",
       "                                  slug  \n",
       "0             lost-in-translation-2003  \n",
       "1                           logan-2017  \n",
       "2  charlie-s-angels-full-throttle-2003  \n",
       "3                charlie-s-angels-2000  \n",
       "4           all-the-bright-places-2020  "
      ]
     },
     "execution_count": 12,
     "metadata": {},
     "output_type": "execute_result"
    }
   ],
   "source": [
    "df.head()"
   ]
  },
  {
   "cell_type": "code",
   "execution_count": 13,
   "metadata": {},
   "outputs": [
    {
     "data": {
      "text/plain": [
       "imdb           object\n",
       "trakt_id        int64\n",
       "watched_at     object\n",
       "title          object\n",
       "year          float64\n",
       "slug           object\n",
       "dtype: object"
      ]
     },
     "execution_count": 13,
     "metadata": {},
     "output_type": "execute_result"
    }
   ],
   "source": [
    "df.dtypes"
   ]
  },
  {
   "cell_type": "code",
   "execution_count": 14,
   "metadata": {},
   "outputs": [
    {
     "data": {
      "text/plain": [
       "(919, 6)"
      ]
     },
     "execution_count": 14,
     "metadata": {},
     "output_type": "execute_result"
    }
   ],
   "source": [
    "df.shape"
   ]
  },
  {
   "cell_type": "code",
   "execution_count": 24,
   "metadata": {},
   "outputs": [
    {
     "name": "stdout",
     "output_type": "stream",
     "text": [
      "Two lost souls visiting Tokyo -- the young, neglected wife of a photographer and a washed-up movie star shooting a TV commercial -- find an odd solace and pensive freedom to be real in each other's company, away from their lives in America.\n",
      "\n",
      "\n",
      "[<Person>: Bill Murray, <Person>: Scarlett Johansson, <Person>: Giovanni Ribisi, <Person>: Anna Faris, <Person>: Akiko Takeshita, <Person>: Fumihiro Hayashi, <Person>: Kazuyoshi Minamimagoe, <Person>: Kazuko Shibata, <Person>: Take, <Person>: Hiroko Kawasaki, <Person>: Daikon, <Person>: Catherine Lambert, <Person>: Daiamondo Yukai, <Person>: Akiko Monô, <Person>: Françoise Dubois, <Person>: Gregory Pekar, <Person>: Ikuko Takahashi, <Person>: Osamu Shigematu, <Person>: Takashi Fujii, <Person>: Lisle Wilkerson, <Person>: Kazuo Yamada, <Person>: Akira Yamaguchi, <Person>: Diamond Yukai, <Person>: Jun Maki, <Person>: Nao Asuka, <Person>: Tetsuro Nakagawa, <Person>: Hiroshi Kawashima, <Person>: Kunichi Nomura, <Person>: Shigekazu Aida, <Person>: Kei Takyo, <Person>: Yumi Ikeda, <Person>: Nancy Steiner, <Person>: Ryuichiro Baba, <Person>: François du Bois, <Person>: Tim Leffman, <Person>: Richard Allen, <Person>: Kanako Nakazato, <Person>: Asuka Shimuzu, <Person>: Koichi Tanaka, <Person>: Hugo Codaro, <Person>: Akimitsu Naruyama, <Person>: Hiromi Toshikawa, <Person>: Nobuhiko Kitamura, <Person>: Nao Kitman, <Person>: Yasuhiko Hattori, <Person>: Ryo Kondo, <Person>: Yumika Saki, <Person>: Yuji Okabe, <Person>: Dietrich Bollmann, <Person>: Georg O.P. Eschert, <Person>: Mark Willms]\n",
      "\n",
      "\n",
      "[<Person>: Fred Roos, <Person>: Ross Katz, <Person>: Francis Ford Coppola, <Person>: Mitch Glazer, <Person>: Callum Greene, <Person>: Masahiro Yoshikawa, <Person>: Anthony Katagas, <Person>: Kiyoshi Inoue, <Person>: Sofia Coppola, <Person>: Keizô Shukuzaki, <Person>: Kevin Shields, <Person>: Richard Beggs, <Person>: Brian Reitzell, <Person>: Drew Kunin, <Person>: Kent Sparling, <Person>: Kira Smith, <Person>: Marnie Moore, <Person>: Deborah Wallach, <Person>: Michael Kirchberger, <Person>: Julia Shirar, <Person>: Glenn Kasprzycki, <Person>: Lance Acord, <Person>: Sarah Flack, <Person>: Jamie Kirkpatrick, <Person>: K.K. Barrett, <Person>: Anne Ross, <Person>: Rika Nakanishi, <Person>: Towako Kuwashima, <Person>: Ryo Sugimoto, <Person>: Tomomi Nishio, <Person>: Momoko Nakamura, <Person>: Nancy Steiner, <Person>: Morag Ross, <Person>: Masae Sakurai, <Person>: Akemi, <Person>: Francis Ford Coppola, <Person>: Josh Hartnett, <Person>: Wes Anderson, <Person>: Spike Jonze, <Person>: Kelly Lynch, <Person>: Paul Simon, <Person>: Roman Coppola, <Person>: Lorne Michaels, <Person>: Andrea F. Cannistraci, <Person>: Roger Joseph Manning Jr., <Person>: Yuji Wada, <Person>: Sofia Coppola, <Person>: Eva Z. Cabrera, <Person>: Takahide Kawakami, <Person>: Sofia Coppola]\n",
      "\n",
      "\n",
      "[<Person>: Bill Murray, <Person>: Scarlett Johansson, <Person>: Giovanni Ribisi, <Person>: Anna Faris, <Person>: Akiko Takeshita, <Person>: Fumihiro Hayashi, <Person>: Kazuyoshi Minamimagoe, <Person>: Kazuko Shibata, <Person>: Take, <Person>: Hiroko Kawasaki, <Person>: Daikon, <Person>: Catherine Lambert, <Person>: Daiamondo Yukai, <Person>: Akiko Monô, <Person>: Françoise Dubois, <Person>: Gregory Pekar, <Person>: Ikuko Takahashi, <Person>: Osamu Shigematu, <Person>: Takashi Fujii, <Person>: Lisle Wilkerson, <Person>: Kazuo Yamada, <Person>: Akira Yamaguchi, <Person>: Diamond Yukai, <Person>: Jun Maki, <Person>: Nao Asuka, <Person>: Tetsuro Nakagawa, <Person>: Hiroshi Kawashima, <Person>: Kunichi Nomura, <Person>: Shigekazu Aida, <Person>: Kei Takyo, <Person>: Yumi Ikeda, <Person>: Nancy Steiner, <Person>: Ryuichiro Baba, <Person>: François du Bois, <Person>: Tim Leffman, <Person>: Richard Allen, <Person>: Kanako Nakazato, <Person>: Asuka Shimuzu, <Person>: Koichi Tanaka, <Person>: Hugo Codaro, <Person>: Akimitsu Naruyama, <Person>: Hiromi Toshikawa, <Person>: Nobuhiko Kitamura, <Person>: Nao Kitman, <Person>: Yasuhiko Hattori, <Person>: Ryo Kondo, <Person>: Yumika Saki, <Person>: Yuji Okabe, <Person>: Dietrich Bollmann, <Person>: Georg O.P. Eschert, <Person>: Mark Willms, <Person>: Fred Roos, <Person>: Ross Katz, <Person>: Francis Ford Coppola, <Person>: Mitch Glazer, <Person>: Callum Greene, <Person>: Masahiro Yoshikawa, <Person>: Anthony Katagas, <Person>: Kiyoshi Inoue, <Person>: Sofia Coppola, <Person>: Keizô Shukuzaki, <Person>: Kevin Shields, <Person>: Richard Beggs, <Person>: Brian Reitzell, <Person>: Drew Kunin, <Person>: Kent Sparling, <Person>: Kira Smith, <Person>: Marnie Moore, <Person>: Deborah Wallach, <Person>: Michael Kirchberger, <Person>: Julia Shirar, <Person>: Glenn Kasprzycki, <Person>: Lance Acord, <Person>: Sarah Flack, <Person>: Jamie Kirkpatrick, <Person>: K.K. Barrett, <Person>: Anne Ross, <Person>: Rika Nakanishi, <Person>: Towako Kuwashima, <Person>: Ryo Sugimoto, <Person>: Tomomi Nishio, <Person>: Momoko Nakamura, <Person>: Nancy Steiner, <Person>: Morag Ross, <Person>: Masae Sakurai, <Person>: Akemi, <Person>: Francis Ford Coppola, <Person>: Josh Hartnett, <Person>: Wes Anderson, <Person>: Spike Jonze, <Person>: Kelly Lynch, <Person>: Paul Simon, <Person>: Roman Coppola, <Person>: Lorne Michaels, <Person>: Andrea F. Cannistraci, <Person>: Roger Joseph Manning Jr., <Person>: Yuji Wada, <Person>: Sofia Coppola, <Person>: Eva Z. Cabrera, <Person>: Takahide Kawakami, <Person>: Sofia Coppola]\n"
     ]
    },
    {
     "data": {
      "text/plain": [
       "[<Movie>: American Beauty,\n",
       " <Movie>: City of God,\n",
       " <Movie>: Unbroken,\n",
       " <Movie>: The Piano,\n",
       " <Movie>: The Edge of Seventeen,\n",
       " <Movie>: Romance,\n",
       " <Movie>: Notes on a Scandal,\n",
       " <Movie>: Certain Women,\n",
       " <Movie>: The Bridges of Madison County,\n",
       " <Movie>: 2 Days in Paris]"
      ]
     },
     "execution_count": 24,
     "metadata": {},
     "output_type": "execute_result"
    }
   ],
   "source": [
    "movie1 = Movie('lost-in-translation-2003')\n",
    "print(movie1.overview)\n",
    "print(\"\\n\")\n",
    "print(movie1.cast)\n",
    "print(\"\\n\")\n",
    "print(movie1.crew)\n",
    "print(\"\\n\")\n",
    "print(movie1.people)\n",
    "movie1"
   ]
  },
  {
   "cell_type": "code",
   "execution_count": null,
   "metadata": {},
   "outputs": [],
   "source": []
  }
 ],
 "metadata": {
  "kernelspec": {
   "display_name": "Python 3",
   "language": "python",
   "name": "python3"
  },
  "language_info": {
   "codemirror_mode": {
    "name": "ipython",
    "version": 3
   },
   "file_extension": ".py",
   "mimetype": "text/x-python",
   "name": "python",
   "nbconvert_exporter": "python",
   "pygments_lexer": "ipython3",
   "version": "3.7.3"
  }
 },
 "nbformat": 4,
 "nbformat_minor": 4
}
